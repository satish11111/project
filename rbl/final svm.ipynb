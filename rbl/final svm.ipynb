{
 "cells": [
  {
   "cell_type": "code",
   "execution_count": 7,
   "metadata": {},
   "outputs": [
    {
     "data": {
      "text/html": [
       "<div>\n",
       "<style scoped>\n",
       "    .dataframe tbody tr th:only-of-type {\n",
       "        vertical-align: middle;\n",
       "    }\n",
       "\n",
       "    .dataframe tbody tr th {\n",
       "        vertical-align: top;\n",
       "    }\n",
       "\n",
       "    .dataframe thead th {\n",
       "        text-align: right;\n",
       "    }\n",
       "</style>\n",
       "<table border=\"1\" class=\"dataframe\">\n",
       "  <thead>\n",
       "    <tr style=\"text-align: right;\">\n",
       "      <th></th>\n",
       "      <th>Pregnancies</th>\n",
       "      <th>Glucose</th>\n",
       "      <th>BloodPressure</th>\n",
       "      <th>SkinThickness</th>\n",
       "      <th>Insulin</th>\n",
       "      <th>BMI</th>\n",
       "      <th>DiabetesPedigreeFunction</th>\n",
       "      <th>Age</th>\n",
       "      <th>Outcome</th>\n",
       "    </tr>\n",
       "  </thead>\n",
       "  <tbody>\n",
       "    <tr>\n",
       "      <th>0</th>\n",
       "      <td>6</td>\n",
       "      <td>148</td>\n",
       "      <td>72</td>\n",
       "      <td>35</td>\n",
       "      <td>0</td>\n",
       "      <td>33.6</td>\n",
       "      <td>0.627</td>\n",
       "      <td>50</td>\n",
       "      <td>1</td>\n",
       "    </tr>\n",
       "    <tr>\n",
       "      <th>1</th>\n",
       "      <td>1</td>\n",
       "      <td>85</td>\n",
       "      <td>66</td>\n",
       "      <td>29</td>\n",
       "      <td>0</td>\n",
       "      <td>26.6</td>\n",
       "      <td>0.351</td>\n",
       "      <td>31</td>\n",
       "      <td>0</td>\n",
       "    </tr>\n",
       "    <tr>\n",
       "      <th>2</th>\n",
       "      <td>8</td>\n",
       "      <td>183</td>\n",
       "      <td>64</td>\n",
       "      <td>0</td>\n",
       "      <td>0</td>\n",
       "      <td>23.3</td>\n",
       "      <td>0.672</td>\n",
       "      <td>32</td>\n",
       "      <td>1</td>\n",
       "    </tr>\n",
       "    <tr>\n",
       "      <th>3</th>\n",
       "      <td>1</td>\n",
       "      <td>89</td>\n",
       "      <td>66</td>\n",
       "      <td>23</td>\n",
       "      <td>94</td>\n",
       "      <td>28.1</td>\n",
       "      <td>0.167</td>\n",
       "      <td>21</td>\n",
       "      <td>0</td>\n",
       "    </tr>\n",
       "    <tr>\n",
       "      <th>4</th>\n",
       "      <td>0</td>\n",
       "      <td>137</td>\n",
       "      <td>40</td>\n",
       "      <td>35</td>\n",
       "      <td>168</td>\n",
       "      <td>43.1</td>\n",
       "      <td>2.288</td>\n",
       "      <td>33</td>\n",
       "      <td>1</td>\n",
       "    </tr>\n",
       "  </tbody>\n",
       "</table>\n",
       "</div>"
      ],
      "text/plain": [
       "   Pregnancies  Glucose  BloodPressure  SkinThickness  Insulin   BMI  \\\n",
       "0            6      148             72             35        0  33.6   \n",
       "1            1       85             66             29        0  26.6   \n",
       "2            8      183             64              0        0  23.3   \n",
       "3            1       89             66             23       94  28.1   \n",
       "4            0      137             40             35      168  43.1   \n",
       "\n",
       "   DiabetesPedigreeFunction  Age  Outcome  \n",
       "0                     0.627   50        1  \n",
       "1                     0.351   31        0  \n",
       "2                     0.672   32        1  \n",
       "3                     0.167   21        0  \n",
       "4                     2.288   33        1  "
      ]
     },
     "execution_count": 7,
     "metadata": {},
     "output_type": "execute_result"
    }
   ],
   "source": [
    "import pandas\n",
    "import pandas as pd\n",
    "diabetes = pd.read_csv(\"diabetes.csv\")\n",
    "\n",
    "diabetes.head()"
   ]
  },
  {
   "cell_type": "code",
   "execution_count": 11,
   "metadata": {},
   "outputs": [
    {
     "data": {
      "text/plain": [
       "Index(['Pregnancies', 'Glucose', 'BloodPressure', 'SkinThickness', 'Insulin',\n",
       "       'BMI', 'DiabetesPedigreeFunction', 'Age', 'Outcome'],\n",
       "      dtype='object')"
      ]
     },
     "execution_count": 11,
     "metadata": {},
     "output_type": "execute_result"
    }
   ],
   "source": [
    "diabetes.columns"
   ]
  },
  {
   "cell_type": "code",
   "execution_count": 12,
   "metadata": {},
   "outputs": [
    {
     "data": {
      "text/html": [
       "<div>\n",
       "<style scoped>\n",
       "    .dataframe tbody tr th:only-of-type {\n",
       "        vertical-align: middle;\n",
       "    }\n",
       "\n",
       "    .dataframe tbody tr th {\n",
       "        vertical-align: top;\n",
       "    }\n",
       "\n",
       "    .dataframe thead th {\n",
       "        text-align: right;\n",
       "    }\n",
       "</style>\n",
       "<table border=\"1\" class=\"dataframe\">\n",
       "  <thead>\n",
       "    <tr style=\"text-align: right;\">\n",
       "      <th></th>\n",
       "      <th>Glucose</th>\n",
       "      <th>BMI</th>\n",
       "    </tr>\n",
       "  </thead>\n",
       "  <tbody>\n",
       "    <tr>\n",
       "      <th>0</th>\n",
       "      <td>148</td>\n",
       "      <td>33.6</td>\n",
       "    </tr>\n",
       "    <tr>\n",
       "      <th>1</th>\n",
       "      <td>85</td>\n",
       "      <td>26.6</td>\n",
       "    </tr>\n",
       "    <tr>\n",
       "      <th>2</th>\n",
       "      <td>183</td>\n",
       "      <td>23.3</td>\n",
       "    </tr>\n",
       "    <tr>\n",
       "      <th>3</th>\n",
       "      <td>89</td>\n",
       "      <td>28.1</td>\n",
       "    </tr>\n",
       "    <tr>\n",
       "      <th>4</th>\n",
       "      <td>137</td>\n",
       "      <td>43.1</td>\n",
       "    </tr>\n",
       "    <tr>\n",
       "      <th>...</th>\n",
       "      <td>...</td>\n",
       "      <td>...</td>\n",
       "    </tr>\n",
       "    <tr>\n",
       "      <th>763</th>\n",
       "      <td>101</td>\n",
       "      <td>32.9</td>\n",
       "    </tr>\n",
       "    <tr>\n",
       "      <th>764</th>\n",
       "      <td>122</td>\n",
       "      <td>36.8</td>\n",
       "    </tr>\n",
       "    <tr>\n",
       "      <th>765</th>\n",
       "      <td>121</td>\n",
       "      <td>26.2</td>\n",
       "    </tr>\n",
       "    <tr>\n",
       "      <th>766</th>\n",
       "      <td>126</td>\n",
       "      <td>30.1</td>\n",
       "    </tr>\n",
       "    <tr>\n",
       "      <th>767</th>\n",
       "      <td>93</td>\n",
       "      <td>30.4</td>\n",
       "    </tr>\n",
       "  </tbody>\n",
       "</table>\n",
       "<p>768 rows × 2 columns</p>\n",
       "</div>"
      ],
      "text/plain": [
       "     Glucose   BMI\n",
       "0        148  33.6\n",
       "1         85  26.6\n",
       "2        183  23.3\n",
       "3         89  28.1\n",
       "4        137  43.1\n",
       "..       ...   ...\n",
       "763      101  32.9\n",
       "764      122  36.8\n",
       "765      121  26.2\n",
       "766      126  30.1\n",
       "767       93  30.4\n",
       "\n",
       "[768 rows x 2 columns]"
      ]
     },
     "execution_count": 12,
     "metadata": {},
     "output_type": "execute_result"
    }
   ],
   "source": [
    "X = diabetes[['Glucose','BMI']]\n",
    "X"
   ]
  },
  {
   "cell_type": "code",
   "execution_count": 13,
   "metadata": {},
   "outputs": [
    {
     "data": {
      "text/plain": [
       "0      1\n",
       "1      0\n",
       "2      1\n",
       "3      0\n",
       "4      1\n",
       "      ..\n",
       "763    0\n",
       "764    0\n",
       "765    0\n",
       "766    1\n",
       "767    0\n",
       "Name: Outcome, Length: 768, dtype: int64"
      ]
     },
     "execution_count": 13,
     "metadata": {},
     "output_type": "execute_result"
    }
   ],
   "source": [
    "y = diabetes['Outcome']\n",
    "y"
   ]
  },
  {
   "cell_type": "code",
   "execution_count": 14,
   "metadata": {},
   "outputs": [],
   "source": [
    "from sklearn.model_selection import train_test_split\n",
    "X_train, X_test, y_train, y_test = train_test_split(X, y, test_size=0.3, random_state=0)"
   ]
  },
  {
   "cell_type": "code",
   "execution_count": 15,
   "metadata": {},
   "outputs": [],
   "source": [
    "import numpy as np\n",
    "X_train = np.array(X_train)\n",
    "y_train = np.array(y_train)\n",
    "X_test = np.array(X_test)\n",
    "y_test = np.array(y_test)\n",
    "\n"
   ]
  },
  {
   "cell_type": "code",
   "execution_count": 16,
   "metadata": {},
   "outputs": [
    {
     "data": {
      "text/plain": [
       "array([[151. ,  42.1],\n",
       "       [ 83. ,  18.2],\n",
       "       [122. ,  36.8],\n",
       "       ...,\n",
       "       [ 94. ,  24.7],\n",
       "       [ 85. ,  30.1],\n",
       "       [136. ,   0. ]])"
      ]
     },
     "execution_count": 16,
     "metadata": {},
     "output_type": "execute_result"
    }
   ],
   "source": [
    "X_train"
   ]
  },
  {
   "cell_type": "code",
   "execution_count": 17,
   "metadata": {},
   "outputs": [
    {
     "data": {
      "text/plain": [
       "array([1, 0, 0, 1, 1, 0, 1, 0, 1, 0, 1, 0, 1, 0, 1, 0, 0, 0, 0, 0, 1, 0,\n",
       "       1, 0, 1, 0, 0, 0, 0, 0, 0, 0, 0, 1, 0, 1, 1, 1, 1, 0, 0, 0, 0, 1,\n",
       "       1, 0, 1, 0, 0, 1, 1, 0, 0, 0, 0, 0, 0, 0, 1, 1, 0, 0, 0, 0, 1, 1,\n",
       "       0, 0, 0, 0, 1, 0, 0, 1, 1, 0, 1, 1, 0, 0, 0, 0, 0, 0, 0, 0, 1, 0,\n",
       "       1, 0, 0, 0, 1, 0, 0, 0, 0, 0, 1, 1, 1, 1, 0, 0, 0, 0, 0, 1, 0, 0,\n",
       "       0, 0, 1, 1, 0, 0, 0, 1, 1, 1, 1, 0, 1, 0, 1, 1, 0, 0, 0, 1, 0, 0,\n",
       "       0, 1, 0, 1, 1, 0, 1, 1, 0, 0, 0, 0, 1, 1, 0, 0, 1, 1, 0, 0, 0, 0,\n",
       "       0, 1, 0, 1, 0, 0, 0, 1, 0, 1, 0, 1, 0, 1, 1, 1, 1, 0, 1, 1, 0, 0,\n",
       "       1, 1, 0, 0, 1, 1, 0, 0, 0, 1, 1, 0, 0, 1, 0, 1, 0, 0, 1, 0, 1, 0,\n",
       "       0, 0, 1, 0, 0, 0, 0, 0, 1, 0, 1, 0, 0, 1, 0, 0, 1, 0, 0, 0, 0, 0,\n",
       "       0, 0, 0, 0, 1, 1, 0, 1, 0, 1, 1, 1, 0, 1, 0, 0, 1, 1, 0, 0, 0, 1,\n",
       "       0, 0, 1, 0, 1, 0, 0, 0, 0, 1, 0, 0, 0, 1, 1, 0, 1, 0, 1, 1, 0, 1,\n",
       "       0, 1, 0, 0, 0, 1, 0, 1, 0, 1, 0, 0, 1, 1, 0, 0, 0, 0, 1, 0, 0, 1,\n",
       "       0, 1, 1, 0, 0, 1, 1, 0, 0, 0, 0, 1, 0, 0, 0, 0, 1, 0, 1, 0, 0, 0,\n",
       "       0, 1, 0, 0, 0, 1, 0, 0, 0, 1, 1, 0, 0, 0, 0, 0, 1, 0, 0, 1, 0, 1,\n",
       "       1, 0, 1, 0, 0, 0, 0, 1, 1, 0, 0, 0, 1, 0, 0, 0, 0, 1, 0, 1, 0, 0,\n",
       "       0, 1, 0, 1, 1, 1, 1, 0, 1, 0, 0, 0, 0, 0, 1, 0, 1, 0, 1, 0, 0, 0,\n",
       "       1, 1, 0, 0, 1, 1, 0, 1, 0, 0, 1, 0, 0, 1, 0, 0, 0, 0, 0, 1, 1, 1,\n",
       "       1, 0, 0, 1, 1, 0, 0, 0, 1, 0, 0, 0, 1, 0, 0, 0, 0, 0, 0, 1, 1, 0,\n",
       "       0, 0, 0, 0, 0, 1, 0, 0, 0, 0, 0, 0, 1, 1, 1, 0, 1, 0, 0, 0, 0, 0,\n",
       "       0, 1, 1, 0, 1, 1, 0, 0, 1, 0, 0, 0, 1, 0, 1, 0, 1, 0, 1, 0, 0, 0,\n",
       "       0, 1, 0, 0, 1, 0, 0, 0, 0, 0, 1, 0, 1, 0, 0, 0, 0, 0, 1, 0, 0, 0,\n",
       "       0, 1, 0, 1, 0, 0, 0, 1, 1, 0, 0, 0, 0, 0, 0, 0, 0, 0, 0, 0, 1, 1,\n",
       "       1, 1, 0, 1, 1, 1, 0, 0, 1, 0, 0, 0, 0, 0, 1, 0, 0, 0, 1, 0, 1, 0,\n",
       "       0, 1, 1, 0, 0, 1, 0, 0, 0], dtype=int64)"
      ]
     },
     "execution_count": 17,
     "metadata": {},
     "output_type": "execute_result"
    }
   ],
   "source": [
    "y_train"
   ]
  },
  {
   "cell_type": "code",
   "execution_count": 18,
   "metadata": {},
   "outputs": [
    {
     "data": {
      "text/plain": [
       "array([[199. ,  42.9],\n",
       "       [107. ,  33.6],\n",
       "       [ 76. ,  34. ],\n",
       "       [166. ,  25.8],\n",
       "       [111. ,  24.6],\n",
       "       [ 81. ,  26.6],\n",
       "       [152. ,  34.2],\n",
       "       [176. ,  33.3],\n",
       "       [127. ,  27.7],\n",
       "       [103. ,  37.7],\n",
       "       [158. ,  31.6],\n",
       "       [187. ,  43.6],\n",
       "       [114. ,  24.9],\n",
       "       [ 82. ,  28.5],\n",
       "       [ 65. ,  32. ],\n",
       "       [108. ,  27.3],\n",
       "       [179. ,  32.7],\n",
       "       [ 73. ,  23. ],\n",
       "       [132. ,  28. ],\n",
       "       [ 99. ,  34. ],\n",
       "       [144. ,  38.5],\n",
       "       [118. ,  42.9],\n",
       "       [ 87. ,  28.9],\n",
       "       [ 61. ,  34.4],\n",
       "       [ 97. ,  23.2],\n",
       "       [124. ,  35.8],\n",
       "       [104. ,  18.4],\n",
       "       [153. ,  40.6],\n",
       "       [112. ,  25. ],\n",
       "       [110. ,  26. ],\n",
       "       [136. ,  26. ],\n",
       "       [102. ,  40.6],\n",
       "       [102. ,  29.3],\n",
       "       [122. ,  36.2],\n",
       "       [119. ,  22.3],\n",
       "       [168. ,  32.9],\n",
       "       [136. ,  28.3],\n",
       "       [117. ,  25.2],\n",
       "       [119. ,  35.5],\n",
       "       [180. ,  34. ],\n",
       "       [119. ,  34.9],\n",
       "       [ 90. ,  42.7],\n",
       "       [ 99. ,  26.9],\n",
       "       [193. ,  34.9],\n",
       "       [197. ,  30.5],\n",
       "       [102. ,   0. ],\n",
       "       [108. ,  25.2],\n",
       "       [129. ,  26.4],\n",
       "       [109. ,  34.8],\n",
       "       [125. ,  32.3],\n",
       "       [133. ,  27. ],\n",
       "       [108. ,  32.5],\n",
       "       [151. ,  41.8],\n",
       "       [137. ,  32. ],\n",
       "       [ 91. ,  39.9],\n",
       "       [  0. ,  24.7],\n",
       "       [ 85. ,  26.6],\n",
       "       [115. ,  52.9],\n",
       "       [134. ,  28.9],\n",
       "       [115. ,   0. ],\n",
       "       [167. ,  37.6],\n",
       "       [147. ,  34.9],\n",
       "       [125. ,  24.7],\n",
       "       [138. ,  36.3],\n",
       "       [182. ,  30.5],\n",
       "       [197. ,  25.9],\n",
       "       [165. ,  30.4],\n",
       "       [122. ,  23. ],\n",
       "       [106. ,  31.2],\n",
       "       [ 72. ,  31.6],\n",
       "       [108. ,  30.8],\n",
       "       [119. ,  25.2],\n",
       "       [ 86. ,  35.8],\n",
       "       [183. ,  40.8],\n",
       "       [171. ,  43.6],\n",
       "       [137. ,  31.2],\n",
       "       [ 68. ,  35.5],\n",
       "       [154. ,  29.3],\n",
       "       [ 83. ,  29.3],\n",
       "       [ 97. ,  38.1],\n",
       "       [100. ,  38.7],\n",
       "       [136. ,  37.4],\n",
       "       [110. ,  32.4],\n",
       "       [ 97. ,  18.2],\n",
       "       [ 95. ,  35.4],\n",
       "       [ 92. ,  42.2],\n",
       "       [139. ,  25.6],\n",
       "       [103. ,  43.3],\n",
       "       [181. ,  35.9],\n",
       "       [ 94. ,  43.5],\n",
       "       [124. ,  27.8],\n",
       "       [129. ,  28. ],\n",
       "       [113. ,  29.5],\n",
       "       [103. ,  19.4],\n",
       "       [164. ,  32.8],\n",
       "       [111. ,  29.5],\n",
       "       [ 97. ,  40.9],\n",
       "       [152. ,  41.5],\n",
       "       [111. ,  37.1],\n",
       "       [115. ,  28.9],\n",
       "       [114. ,  44.2],\n",
       "       [ 99. ,  24.6],\n",
       "       [110. ,  37.6],\n",
       "       [ 95. ,  19.6],\n",
       "       [128. ,  40. ],\n",
       "       [108. ,  30.5],\n",
       "       [126. ,  27.4],\n",
       "       [137. ,  33.2],\n",
       "       [ 99. ,  19.3],\n",
       "       [183. ,  23.3],\n",
       "       [ 88. ,  28.4],\n",
       "       [112. ,  34.2],\n",
       "       [143. ,  34.9],\n",
       "       [128. ,  32. ],\n",
       "       [173. ,  35.7],\n",
       "       [161. ,  30.4],\n",
       "       [108. ,  25.3],\n",
       "       [193. ,  25.9],\n",
       "       [111. ,  30.1],\n",
       "       [120. ,  42.3],\n",
       "       [112. ,  39.4],\n",
       "       [103. ,  39.2],\n",
       "       [115. ,  38.1],\n",
       "       [121. ,  26.5],\n",
       "       [143. ,  26.2],\n",
       "       [ 90. ,  23.5],\n",
       "       [127. ,  34.5],\n",
       "       [116. ,  32.3],\n",
       "       [135. ,  26.7],\n",
       "       [175. ,  22.9],\n",
       "       [139. ,  28.6],\n",
       "       [105. ,   0. ],\n",
       "       [ 81. ,  27.7],\n",
       "       [172. ,  42.4],\n",
       "       [ 94. ,  33.3],\n",
       "       [102. ,  32.9],\n",
       "       [107. ,  28.3],\n",
       "       [103. ,  39.1],\n",
       "       [141. ,  30. ],\n",
       "       [120. ,  26.8],\n",
       "       [ 87. ,  32.7],\n",
       "       [154. ,  31.3],\n",
       "       [105. ,  24.3],\n",
       "       [ 62. ,  32.6],\n",
       "       [114. ,  32.8],\n",
       "       [ 99. ,  25.4],\n",
       "       [ 88. ,  24.4],\n",
       "       [ 80. ,  26.2],\n",
       "       [ 97. ,  27.2],\n",
       "       [105. ,  33.7],\n",
       "       [ 85. ,  27.8],\n",
       "       [142. ,  44. ],\n",
       "       [116. ,  26.3],\n",
       "       [107. ,  30.8],\n",
       "       [150. ,  35.2],\n",
       "       [ 97. ,  28.2],\n",
       "       [165. ,  52.3],\n",
       "       [109. ,  25.2],\n",
       "       [120. ,  30. ],\n",
       "       [135. ,  52.3],\n",
       "       [161. ,  25.5],\n",
       "       [194. ,  23.5],\n",
       "       [ 71. ,  20.4],\n",
       "       [122. ,  29.8],\n",
       "       [179. ,  35.1],\n",
       "       [119. ,  32.4],\n",
       "       [ 76. ,  32.8],\n",
       "       [111. ,  26.2],\n",
       "       [125. ,  31.6],\n",
       "       [105. ,  29.6],\n",
       "       [ 89. ,  27.8],\n",
       "       [ 74. ,  35.3],\n",
       "       [107. ,  29.6],\n",
       "       [102. ,  39.5],\n",
       "       [142. ,  32.4],\n",
       "       [ 91. ,  33.1],\n",
       "       [ 95. ,  36.8],\n",
       "       [ 77. ,  35.8],\n",
       "       [110. ,  28.4],\n",
       "       [ 91. ,  29.2],\n",
       "       [102. ,  30.8],\n",
       "       [158. ,  42.3],\n",
       "       [ 83. ,  36.8],\n",
       "       [180. ,  42. ],\n",
       "       [136. ,  31.2],\n",
       "       [ 44. ,  25. ],\n",
       "       [131. ,  43.2],\n",
       "       [124. ,  27.6],\n",
       "       [144. ,  31.6],\n",
       "       [109. ,  25.4],\n",
       "       [128. ,  21.1],\n",
       "       [ 88. ,  27.6],\n",
       "       [ 89. ,  22.5],\n",
       "       [118. ,  33.3],\n",
       "       [ 91. ,  32.4],\n",
       "       [140. ,  39.2],\n",
       "       [145. ,  37.9],\n",
       "       [154. ,  32.8],\n",
       "       [102. ,  25.1],\n",
       "       [ 99. ,  35.4],\n",
       "       [111. ,  24. ],\n",
       "       [139. ,  22.1],\n",
       "       [103. ,  24. ],\n",
       "       [136. ,  29.9],\n",
       "       [113. ,  33.6],\n",
       "       [ 77. ,  33.3],\n",
       "       [ 95. ,  37.7],\n",
       "       [ 99. ,  38.6],\n",
       "       [155. ,  26.6],\n",
       "       [124. ,  21.8],\n",
       "       [ 95. ,  37.4],\n",
       "       [ 88. ,  29.9],\n",
       "       [112. ,  23.6],\n",
       "       [151. ,  26.1],\n",
       "       [112. ,  34.1],\n",
       "       [ 81. ,  46.7],\n",
       "       [119. ,  27.1],\n",
       "       [131. ,  34.3],\n",
       "       [161. ,  21.9],\n",
       "       [ 96. ,  37.3],\n",
       "       [ 95. ,  32. ],\n",
       "       [101. ,  21. ],\n",
       "       [128. ,  36.5],\n",
       "       [134. ,  46.2],\n",
       "       [147. ,  42.8],\n",
       "       [140. ,  37.4],\n",
       "       [104. ,  29.9],\n",
       "       [109. ,  27.9],\n",
       "       [ 95. ,  23.9],\n",
       "       [106. ,  37.5],\n",
       "       [122. ,  27.6]])"
      ]
     },
     "execution_count": 18,
     "metadata": {},
     "output_type": "execute_result"
    }
   ],
   "source": [
    "X_test"
   ]
  },
  {
   "cell_type": "code",
   "execution_count": 19,
   "metadata": {},
   "outputs": [
    {
     "data": {
      "text/plain": [
       "array([1, 0, 0, 1, 0, 0, 1, 1, 0, 0, 1, 1, 0, 0, 0, 0, 1, 0, 0, 0, 1, 1,\n",
       "       0, 0, 0, 0, 0, 0, 0, 0, 0, 0, 0, 0, 0, 1, 1, 0, 0, 0, 0, 0, 0, 1,\n",
       "       1, 0, 0, 1, 1, 1, 0, 0, 1, 0, 0, 0, 0, 1, 1, 1, 1, 0, 0, 1, 1, 1,\n",
       "       1, 0, 0, 0, 0, 0, 0, 0, 1, 0, 0, 0, 0, 0, 0, 0, 0, 0, 0, 0, 1, 0,\n",
       "       1, 0, 0, 0, 0, 0, 0, 0, 1, 0, 1, 1, 0, 0, 0, 0, 0, 1, 0, 0, 0, 1,\n",
       "       0, 1, 1, 1, 1, 1, 0, 0, 0, 1, 0, 0, 0, 0, 0, 0, 0, 1, 0, 0, 0, 0,\n",
       "       0, 1, 0, 1, 0, 1, 1, 0, 0, 0, 0, 0, 1, 0, 0, 0, 0, 1, 0, 1, 0, 0,\n",
       "       1, 0, 0, 0, 1, 1, 1, 1, 0, 0, 0, 1, 0, 0, 0, 0, 0, 0, 1, 1, 0, 0,\n",
       "       0, 0, 0, 0, 1, 1, 0, 1, 1, 0, 1, 1, 1, 0, 0, 0, 0, 0, 0, 1, 1, 0,\n",
       "       0, 0, 0, 0, 0, 0, 1, 0, 0, 0, 1, 0, 1, 0, 0, 0, 0, 0, 1, 1, 0, 0,\n",
       "       1, 0, 1, 1, 0, 0, 1, 1, 0, 0, 0], dtype=int64)"
      ]
     },
     "execution_count": 19,
     "metadata": {},
     "output_type": "execute_result"
    }
   ],
   "source": [
    "y_test"
   ]
  },
  {
   "cell_type": "code",
   "execution_count": 21,
   "metadata": {},
   "outputs": [],
   "source": [
    "from sklearn import svm\n",
    "machine1 = svm.SVC(kernel = 'linear')\n",
    "machine1.fit(X_train,y_train)\n",
    "y_pred = machine1.predict(X_test)\n"
   ]
  },
  {
   "cell_type": "code",
   "execution_count": 22,
   "metadata": {},
   "outputs": [
    {
     "data": {
      "text/plain": [
       "<matplotlib.axes._subplots.AxesSubplot at 0x1e97598c460>"
      ]
     },
     "execution_count": 22,
     "metadata": {},
     "output_type": "execute_result"
    },
    {
     "data": {
      "image/png": "[encoded data removed]",
      "text/plain": [
       "<Figure size 360x360 with 2 Axes>"
      ]
     },
     "metadata": {
      "needs_background": "light"
     },
     "output_type": "display_data"
    }
   ],
   "source": [
    "import numpy as np\n",
    "from sklearn.metrics import confusion_matrix\n",
    "import matplotlib.pyplot as plt\n",
    "import seaborn as sns\n",
    "matrix = confusion_matrix(y_test, y_pred)\n",
    "matrix = matrix.astype('float') / matrix.sum(axis=1)[:, np.newaxis]\n",
    "plt.figure(figsize=(5,5))\n",
    "sns.set(font_scale=1.4)\n",
    "sns.heatmap(matrix, annot=True, annot_kws={'size':10},\n",
    "            cmap=plt.cm.Greens, linewidths=0.2)"
   ]
  },
  {
   "cell_type": "code",
   "execution_count": 10,
   "metadata": {},
   "outputs": [
    {
     "name": "stdout",
     "output_type": "stream",
     "text": [
      "Mean Absolute Error: 0.23376623376623376\n",
      "Mean Squared Error: 0.23376623376623376\n",
      "Root Mean Squared Error: 0.48349377841522817\n",
      "Accuracy for SVM tree: 0.7662337662337663\n"
     ]
    }
   ],
   "source": [
    "from sklearn import metrics\n",
    "\n",
    "print('Mean Absolute Error:', metrics.mean_absolute_error(y_test, y_pred))\n",
    "print('Mean Squared Error:', metrics.mean_squared_error(y_test, y_pred))\n",
    "print('Root Mean Squared Error:', np.sqrt(metrics.mean_squared_error(y_test, y_pred)))\n",
    "print(\"Accuracy for SVM tree:\", metrics.accuracy_score(y_test,y_pred))"
   ]
  },
  {
   "cell_type": "code",
   "execution_count": null,
   "metadata": {},
   "outputs": [],
   "source": []
  }
 ],
 "metadata": {
  "kernelspec": {
   "display_name": "Python 3",
   "language": "python",
   "name": "python3"
  },
  "language_info": {
   "codemirror_mode": {
    "name": "ipython",
    "version": 3
   },
   "file_extension": ".py",
   "mimetype": "text/x-python",
   "name": "python",
   "nbconvert_exporter": "python",
   "pygments_lexer": "ipython3",
   "version": "3.8.3"
  }
 },
 "nbformat": 4,
 "nbformat_minor": 4
}
